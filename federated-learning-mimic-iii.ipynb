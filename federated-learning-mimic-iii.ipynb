{
 "cells": [
  {
   "cell_type": "markdown",
   "id": "4ccd6b1d",
   "metadata": {
    "papermill": {
     "duration": 0.008142,
     "end_time": "2025-05-04T12:36:03.823189",
     "exception": false,
     "start_time": "2025-05-04T12:36:03.815047",
     "status": "completed"
    },
    "tags": []
   },
   "source": [
    "# **Federated Learning for Patient Mortality Prediction using Neural Networks on MIMIC-III**"
   ]
  },
  {
   "cell_type": "code",
   "execution_count": 1,
   "id": "89d87d25",
   "metadata": {
    "execution": {
     "iopub.execute_input": "2025-05-04T12:36:03.839233Z",
     "iopub.status.busy": "2025-05-04T12:36:03.838945Z",
     "iopub.status.idle": "2025-05-04T12:36:04.546708Z",
     "shell.execute_reply": "2025-05-04T12:36:04.545984Z"
    },
    "id": "eAtQ4MvgCiJn",
    "papermill": {
     "duration": 0.717512,
     "end_time": "2025-05-04T12:36:04.548228",
     "exception": false,
     "start_time": "2025-05-04T12:36:03.830716",
     "status": "completed"
    },
    "tags": []
   },
   "outputs": [],
   "source": [
    "import pandas as pd\n",
    "import numpy as np\n",
    "import matplotlib.pyplot as plt"
   ]
  },
  {
   "cell_type": "markdown",
   "id": "23c52784",
   "metadata": {
    "id": "aB6rVfJa1AMd",
    "papermill": {
     "duration": 0.00704,
     "end_time": "2025-05-04T12:36:04.563094",
     "exception": false,
     "start_time": "2025-05-04T12:36:04.556054",
     "status": "completed"
    },
    "tags": []
   },
   "source": [
    "# 1. Data Preprocessing"
   ]
  },
  {
   "cell_type": "code",
   "execution_count": 2,
   "id": "96cabdd4",
   "metadata": {
    "execution": {
     "iopub.execute_input": "2025-05-04T12:36:04.578328Z",
     "iopub.status.busy": "2025-05-04T12:36:04.577968Z",
     "iopub.status.idle": "2025-05-04T12:36:06.129118Z",
     "shell.execute_reply": "2025-05-04T12:36:06.128469Z"
    },
    "id": "jScx1PurRfVv",
    "papermill": {
     "duration": 1.560407,
     "end_time": "2025-05-04T12:36:06.130542",
     "exception": false,
     "start_time": "2025-05-04T12:36:04.570135",
     "status": "completed"
    },
    "tags": []
   },
   "outputs": [],
   "source": [
    "# file paths and columns\n",
    "files = {\n",
    "    \"chartevents\": (\"/kaggle/input/mimiciii/mimic-iii-clinical-database-demo-1.4/CHARTEVENTS.csv\", \n",
    "                    [\"icustay_id\", \"charttime\", \"itemid\", \"valuenum\"]),\n",
    "    \"labevents\": (\"/kaggle/input/mimiciii/mimic-iii-clinical-database-demo-1.4/LABEVENTS.csv\", \n",
    "                  [\"subject_id\", \"hadm_id\", \"charttime\", \"itemid\", \"valuenum\"]),\n",
    "    \"outputevents\": (\"/kaggle/input/mimiciii/mimic-iii-clinical-database-demo-1.4/OUTPUTEVENTS.csv\", \n",
    "                     [\"subject_id\", \"hadm_id\", \"charttime\", \"itemid\", \"value\"]),\n",
    "    \"admissions\": (\"/kaggle/input/mimiciii/mimic-iii-clinical-database-demo-1.4/ADMISSIONS.csv\", \n",
    "                   [\"subject_id\", \"admittime\"])\n",
    "}\n",
    "\n",
    "# Load files dynamically\n",
    "dfs = {name: pd.read_csv(path, usecols=cols, low_memory=False) for name, (path, cols) in files.items()}\n",
    "\n",
    "# Access individual DataFrames\n",
    "df_chartevents = dfs[\"chartevents\"]\n",
    "df_labevents = dfs[\"labevents\"]\n",
    "df_outputevents = dfs[\"outputevents\"]\n",
    "df_admissions = dfs[\"admissions\"]\n"
   ]
  },
  {
   "cell_type": "markdown",
   "id": "965ae086",
   "metadata": {
    "id": "seWdGiByZtUV",
    "papermill": {
     "duration": 0.008107,
     "end_time": "2025-05-04T12:36:06.147401",
     "exception": false,
     "start_time": "2025-05-04T12:36:06.139294",
     "status": "completed"
    },
    "tags": []
   },
   "source": [
    "## Extraction of Clinical Features  \n",
    "In this section, we will extract all the attributes that we found important to better train our models."
   ]
  },
  {
   "cell_type": "markdown",
   "id": "4e86147f",
   "metadata": {
    "id": "8D9QoH8_Z0EE",
    "papermill": {
     "duration": 0.006878,
     "end_time": "2025-05-04T12:36:06.161498",
     "exception": false,
     "start_time": "2025-05-04T12:36:06.154620",
     "status": "completed"
    },
    "tags": []
   },
   "source": [
    "### 1. Extraction of the Glasgow Coma Scale (GCS)  \n",
    "We extract the components of the Glasgow Coma Scale (verbal, motor, ocular) and calculate the total score, an important neurological indicator."
   ]
  },
  {
   "cell_type": "code",
   "execution_count": 3,
   "id": "0a61600c",
   "metadata": {
    "execution": {
     "iopub.execute_input": "2025-05-04T12:36:06.176829Z",
     "iopub.status.busy": "2025-05-04T12:36:06.176562Z",
     "iopub.status.idle": "2025-05-04T12:36:06.237830Z",
     "shell.execute_reply": "2025-05-04T12:36:06.237155Z"
    },
    "id": "6Lt-ftPAZ3-a",
    "outputId": "a3b075e4-35f6-48b8-d39e-c9613d602d34",
    "papermill": {
     "duration": 0.070656,
     "end_time": "2025-05-04T12:36:06.239244",
     "exception": false,
     "start_time": "2025-05-04T12:36:06.168588",
     "status": "completed"
    },
    "tags": []
   },
   "outputs": [],
   "source": [
    "gcs_items = {\n",
    "    \"GCSVerbal\": [723, 223900],\n",
    "    \"GCSMotor\": [454, 223901],\n",
    "    \"GCSEyes\": [184, 220739]\n",
    "}\n",
    "df_gcs = df_chartevents[df_chartevents[\"itemid\"].isin(sum(gcs_items.values(), []))].copy()\n",
    "df_gcs[\"Feature\"] = df_gcs[\"itemid\"].map({v: k for k, lst in gcs_items.items() for v in lst})\n",
    "df_gcs = df_gcs.pivot_table(index=[\"icustay_id\", \"charttime\"], columns=\"Feature\", values=\"valuenum\", aggfunc=\"max\")\n",
    "df_gcs[\"GCS_Total\"] = df_gcs.sum(axis=1)\n",
    "df_gcs.reset_index(inplace=True)\n"
   ]
  },
  {
   "cell_type": "markdown",
   "id": "85b469ad",
   "metadata": {
    "id": "xKdLD-SfZ9JU",
    "papermill": {
     "duration": 0.007684,
     "end_time": "2025-05-04T12:36:06.254474",
     "exception": false,
     "start_time": "2025-05-04T12:36:06.246790",
     "status": "completed"
    },
    "tags": []
   },
   "source": [
    "### 2. Extraction of Vital Signs  \n",
    "We extract systolic blood pressure, heart rate, and temperature, converting Fahrenheit to Celsius."
   ]
  },
  {
   "cell_type": "code",
   "execution_count": 4,
   "id": "1788d971",
   "metadata": {
    "execution": {
     "iopub.execute_input": "2025-05-04T12:36:06.269610Z",
     "iopub.status.busy": "2025-05-04T12:36:06.269321Z",
     "iopub.status.idle": "2025-05-04T12:36:06.322192Z",
     "shell.execute_reply": "2025-05-04T12:36:06.321554Z"
    },
    "id": "0arSSb1haAYq",
    "outputId": "c6516e9f-3495-4207-d696-83ef2b0efee8",
    "papermill": {
     "duration": 0.062226,
     "end_time": "2025-05-04T12:36:06.323753",
     "exception": false,
     "start_time": "2025-05-04T12:36:06.261527",
     "status": "completed"
    },
    "tags": []
   },
   "outputs": [],
   "source": [
    "vital_signs = {\n",
    "    \"SysBP\": [51, 442, 455, 220179, 220050],\n",
    "    \"HeartRate\": [211, 220045],\n",
    "    \"Temperature_F\": [678, 223761]\n",
    "}\n",
    "\n",
    "\n",
    "df_vitals = df_chartevents[df_chartevents[\"itemid\"].isin(sum(vital_signs.values(), []))].copy()\n",
    "df_vitals[\"Feature\"] = df_vitals[\"itemid\"].map({v: k for k, lst in vital_signs.items() for v in lst})\n",
    "df_vitals = df_vitals.pivot_table(index=[\"icustay_id\", \"charttime\"], columns=\"Feature\", values=\"valuenum\", aggfunc=\"max\")\n",
    "df_vitals[\"Temperature_C\"] = (df_vitals[\"Temperature_F\"] - 32) * 5 / 9  \n",
    "df_vitals.drop(columns=[\"Temperature_F\"], inplace=True)\n",
    "df_vitals.reset_index(inplace=True)"
   ]
  },
  {
   "cell_type": "markdown",
   "id": "cfb91af8",
   "metadata": {
    "id": "SF-qCvsPaEjz",
    "papermill": {
     "duration": 0.00715,
     "end_time": "2025-05-04T12:36:06.338358",
     "exception": false,
     "start_time": "2025-05-04T12:36:06.331208",
     "status": "completed"
    },
    "tags": []
   },
   "source": [
    "### 3. Calculation of the PaO₂/FiO₂ Ratio  \n",
    "We extract the PaO₂ and FiO₂ measurements and then calculate their ratio, a crucial indicator of respiratory function."
   ]
  },
  {
   "cell_type": "code",
   "execution_count": 5,
   "id": "56b14e70",
   "metadata": {
    "execution": {
     "iopub.execute_input": "2025-05-04T12:36:06.353681Z",
     "iopub.status.busy": "2025-05-04T12:36:06.353410Z",
     "iopub.status.idle": "2025-05-04T12:36:07.921106Z",
     "shell.execute_reply": "2025-05-04T12:36:07.920456Z"
    },
    "id": "TnwYCvRtaG-K",
    "outputId": "a808a368-fc73-49b1-8b0c-cc38318a53f9",
    "papermill": {
     "duration": 1.57709,
     "end_time": "2025-05-04T12:36:07.922569",
     "exception": false,
     "start_time": "2025-05-04T12:36:06.345479",
     "status": "completed"
    },
    "tags": []
   },
   "outputs": [],
   "source": [
    "# To extract PaO₂ \n",
    "df_labevents = pd.read_csv(\"/kaggle/input/mimiciii/mimic-iii-clinical-database-demo-1.4/LABEVENTS.csv\", low_memory=False)\n",
    "\n",
    "df_pao2 = df_labevents[df_labevents[\"itemid\"] == 50821].copy()  \n",
    "df_pao2[\"Feature\"] = \"PaO2\"\n",
    "df_pao2 = df_pao2.pivot_table(index=[\"subject_id\", \"hadm_id\", \"charttime\"], columns=\"Feature\", values=\"valuenum\", aggfunc=\"max\")\n",
    "df_pao2.reset_index(inplace=True)\n",
    "\n",
    "# To extract FiO₂ \n",
    "df_chartevents = pd.read_csv(\"/kaggle/input/mimiciii/mimic-iii-clinical-database-demo-1.4/CHARTEVENTS.csv\", low_memory=False)\n",
    "\n",
    "fio2_items = [223835, 190]  \n",
    "df_fio2 = df_chartevents[df_chartevents[\"itemid\"].isin(fio2_items)].copy()\n",
    "df_fio2[\"Feature\"] = \"FiO2\"\n",
    "df_fio2 = df_fio2.pivot_table(index=[\"subject_id\", \"hadm_id\", \"charttime\"], columns=\"Feature\", values=\"valuenum\", aggfunc=\"max\")\n",
    "df_fio2.reset_index(inplace=True)\n",
    "\n",
    "# Concatenate our two results \n",
    "df_pao2_fio2 = pd.merge(df_pao2, df_fio2, on=[\"subject_id\", \"hadm_id\", \"charttime\"], how=\"outer\")\n",
    "\n",
    "df_pao2_fio2[\"PaO2_FiO2_Ratio\"] = df_pao2_fio2[\"PaO2\"] / df_pao2_fio2[\"FiO2\"]\n",
    "\n",
    "# Replace missing values of PaO₂/FiO₂ Ratio with PaO₂\n",
    "df_pao2_fio2[\"PaO2_FiO2_Ratio\"] = df_pao2_fio2[\"PaO2_FiO2_Ratio\"].fillna(df_pao2_fio2[\"PaO2\"])\n",
    "\n",
    "# Save to a CSV file  \n",
    "df_pao2_fio2.to_csv(\"processed_pao2_fio2.csv\", index=False)"
   ]
  },
  {
   "cell_type": "markdown",
   "id": "31e385e3",
   "metadata": {
    "id": "OYjSiK3AcUem",
    "papermill": {
     "duration": 0.00706,
     "end_time": "2025-05-04T12:36:07.936961",
     "exception": false,
     "start_time": "2025-05-04T12:36:07.929901",
     "status": "completed"
    },
    "tags": []
   },
   "source": [
    "### 4. Extraction of Urine Output  \n",
    "We extract and aggregate urine output data per patient and period."
   ]
  },
  {
   "cell_type": "code",
   "execution_count": 6,
   "id": "5a0d32cb",
   "metadata": {
    "execution": {
     "iopub.execute_input": "2025-05-04T12:36:07.952166Z",
     "iopub.status.busy": "2025-05-04T12:36:07.951896Z",
     "iopub.status.idle": "2025-05-04T12:36:07.966645Z",
     "shell.execute_reply": "2025-05-04T12:36:07.965482Z"
    },
    "id": "eYCN6u_HcVWr",
    "outputId": "0628978a-d7ac-4da3-c39d-d7fd507762cd",
    "papermill": {
     "duration": 0.024384,
     "end_time": "2025-05-04T12:36:07.968344",
     "exception": false,
     "start_time": "2025-05-04T12:36:07.943960",
     "status": "completed"
    },
    "tags": []
   },
   "outputs": [],
   "source": [
    "# Urine item IDs \n",
    "urine_items = [40055, 43175, 40069, 40094, 40715, 40473, 40085, 40057, 40056]\n",
    "\n",
    "# Extract only the elements containing urine item IDs \n",
    "df_urine = df_outputevents[df_outputevents[\"itemid\"].isin(urine_items)].copy()\n",
    "\n",
    "# Check if 'valuenum' exists; otherwise, use 'value'\n",
    "if \"valuenum\" in df_urine.columns:\n",
    "    value_column = \"valuenum\"\n",
    "elif \"value\" in df_urine.columns:\n",
    "    value_column = \"value\"\n",
    "else:\n",
    "    raise KeyError(\"⚠ No valid urine output column found in OUTPUTEVENTS.csv!\")\n",
    "\n",
    "# Group by subject_id, hadm_id, and charttime  \n",
    "df_urine = df_urine.groupby([\"subject_id\", \"hadm_id\", \"charttime\"])[value_column].sum().reset_index()\n",
    "\n",
    "# Rename the column \n",
    "df_urine.rename(columns={value_column: \"UrineOutput\"}, inplace=True)"
   ]
  },
  {
   "cell_type": "markdown",
   "id": "b46f8b5b",
   "metadata": {
    "id": "0fXpBeLNc4U2",
    "papermill": {
     "duration": 0.009098,
     "end_time": "2025-05-04T12:36:07.988558",
     "exception": false,
     "start_time": "2025-05-04T12:36:07.979460",
     "status": "completed"
    },
    "tags": []
   },
   "source": [
    "### 5. Extraction of Laboratory Tests  \n",
    "We extract various laboratory values (white blood cells, bicarbonate, sodium, potassium, bilirubin, BUN)."
   ]
  },
  {
   "cell_type": "code",
   "execution_count": 7,
   "id": "e8895e43",
   "metadata": {
    "execution": {
     "iopub.execute_input": "2025-05-04T12:36:08.005866Z",
     "iopub.status.busy": "2025-05-04T12:36:08.005580Z",
     "iopub.status.idle": "2025-05-04T12:36:08.025642Z",
     "shell.execute_reply": "2025-05-04T12:36:08.024966Z"
    },
    "id": "tdkn5b_2c5FA",
    "outputId": "a23f05f9-2406-45d0-836d-df9e410eff69",
    "papermill": {
     "duration": 0.029241,
     "end_time": "2025-05-04T12:36:08.026825",
     "exception": false,
     "start_time": "2025-05-04T12:36:07.997584",
     "status": "completed"
    },
    "tags": []
   },
   "outputs": [],
   "source": [
    "lab_items = {\n",
    "    \"WBC\": [51300],\n",
    "    \"Bicarbonate\": [50882],\n",
    "    \"Sodium\": [950824, 50983],\n",
    "    \"Potassium\": [50822, 50971],\n",
    "    \"Bilirubin\": [50885],\n",
    "    \"BUN\": [51006]\n",
    "}\n",
    "\n",
    "df_labs = df_labevents[df_labevents[\"itemid\"].isin(sum(lab_items.values(), []))].copy()  # Utiliser .copy() pour éviter les avertissements\n",
    "\n",
    "df_labs[\"Feature\"] = df_labs[\"itemid\"].map({v: k for k, lst in lab_items.items() for v in lst})\n",
    "\n",
    "# Pivot table using subject_id and hadm_id instead of icustay_id\n",
    "df_labs = df_labs.pivot_table(index=[\"subject_id\", \"hadm_id\", \"charttime\"],\n",
    "                              columns=\"Feature\", values=\"valuenum\", aggfunc=\"max\")\n",
    "\n",
    "# Reset index to flatten the DataFrame\n",
    "df_labs.reset_index(inplace=True)"
   ]
  },
  {
   "cell_type": "markdown",
   "id": "55237736",
   "metadata": {
    "id": "eZDT7OHodRpV",
    "papermill": {
     "duration": 0.006991,
     "end_time": "2025-05-04T12:36:08.040944",
     "exception": false,
     "start_time": "2025-05-04T12:36:08.033953",
     "status": "completed"
    },
    "tags": []
   },
   "source": [
    "## Merging and Data Preparation  \n",
    "### Merging and Preprocessing Data  \n",
    "We merge all the extracted dataframes from the different tables in the dataset."
   ]
  },
  {
   "cell_type": "code",
   "execution_count": 8,
   "id": "a8e270e7",
   "metadata": {
    "execution": {
     "iopub.execute_input": "2025-05-04T12:36:08.055925Z",
     "iopub.status.busy": "2025-05-04T12:36:08.055698Z",
     "iopub.status.idle": "2025-05-04T12:36:08.137560Z",
     "shell.execute_reply": "2025-05-04T12:36:08.136568Z"
    },
    "id": "e-zb_paodUbN",
    "outputId": "24464b7a-838a-4f9c-e6a8-419e35392499",
    "papermill": {
     "duration": 0.090908,
     "end_time": "2025-05-04T12:36:08.138889",
     "exception": false,
     "start_time": "2025-05-04T12:36:08.047981",
     "status": "completed"
    },
    "tags": []
   },
   "outputs": [
    {
     "name": "stdout",
     "output_type": "stream",
     "text": [
      "Merging completed successfully!\n"
     ]
    }
   ],
   "source": [
    "dfs = [df_gcs, df_vitals, df_pao2_fio2, df_urine, df_labs]\n",
    "\n",
    "# Ensure 'subject_id', 'hadm_id', and 'charttime' are present in all DataFrames\n",
    "for i, df in enumerate(dfs):\n",
    "    # 1. Add missing columns if they don't exist\n",
    "    for col in [\"subject_id\", \"hadm_id\", \"charttime\"]:\n",
    "        if col not in df.columns:\n",
    "            df[col] = pd.NA\n",
    "\n",
    "    # 2. Convert to consistent data types\n",
    "    for col in [\"subject_id\", \"hadm_id\"]:\n",
    "        if df[col].dtype != 'int64':  # Ajuster le type de données\n",
    "            df[col] = pd.to_numeric(df[col], errors='coerce').astype('Int64')\n",
    "\n",
    "    # 3. Handle 'charttime' - convert to datetime format\n",
    "    if df[\"charttime\"].dtype != '<M8[ns]':\n",
    "        df[\"charttime\"] = pd.to_datetime(df[\"charttime\"])\n",
    "\n",
    "    dfs[i] = df\n",
    "\n",
    "# Merge all DataFrames on 'subject_id', 'hadm_id', and 'charttime' using an outer join\n",
    "df_merged = dfs[0]\n",
    "for df in dfs[1:]:\n",
    "    df_merged = df_merged.merge(df, on=[\"subject_id\", \"hadm_id\", \"charttime\"], how=\"outer\")\n",
    "\n",
    "\n",
    "print(\"Merging completed successfully!\")"
   ]
  },
  {
   "cell_type": "markdown",
   "id": "4d90f7dd",
   "metadata": {
    "id": "FGhMi-K2d82L",
    "papermill": {
     "duration": 0.006927,
     "end_time": "2025-05-04T12:36:08.153709",
     "exception": false,
     "start_time": "2025-05-04T12:36:08.146782",
     "status": "completed"
    },
    "tags": []
   },
   "source": [
    "We handle missing values using multiple techniques and remove outliers."
   ]
  },
  {
   "cell_type": "code",
   "execution_count": 9,
   "id": "7a13ebb3",
   "metadata": {
    "execution": {
     "iopub.execute_input": "2025-05-04T12:36:08.168790Z",
     "iopub.status.busy": "2025-05-04T12:36:08.168558Z",
     "iopub.status.idle": "2025-05-04T12:36:08.214714Z",
     "shell.execute_reply": "2025-05-04T12:36:08.213802Z"
    },
    "id": "etb0yYjmd9cP",
    "outputId": "95e53136-8ec1-4ca8-a99d-b6be4b0d6820",
    "papermill": {
     "duration": 0.055271,
     "end_time": "2025-05-04T12:36:08.216185",
     "exception": false,
     "start_time": "2025-05-04T12:36:08.160914",
     "status": "completed"
    },
    "tags": []
   },
   "outputs": [
    {
     "name": "stdout",
     "output_type": "stream",
     "text": [
      "Data sorting and cleaning completed successfully!\n"
     ]
    }
   ],
   "source": [
    "df_merged.sort_values([\"subject_id\", \"hadm_id\", \"charttime\"], inplace=True)\n",
    "\n",
    "df_merged.ffill(inplace=True)\n",
    "df_merged.bfill(inplace=True)\n",
    "df_merged.fillna(df_merged.median(), inplace=True)\n",
    "\n",
    "outlier_bounds = {\n",
    "    \"SysBP\": (50, 250),\n",
    "    \"HeartRate\": (30, 200),\n",
    "    \"Temperature_C\": (30, 42),\n",
    "    \"PaO2_FiO2_Ratio\": (50, 600),\n",
    "    \"UrineOutput\": (0, 8000),\n",
    "    \"WBC\": (2, 30),\n",
    "    \"Bicarbonate\": (5, 45),\n",
    "    \"Sodium\": (120, 160),\n",
    "    \"Potassium\": (2, 7),\n",
    "    \"Bilirubin\": (0.1, 50),\n",
    "    \"BUN\": (2, 200),\n",
    "    \"GCS_Total\": (3, 15)\n",
    "}\n",
    "\n",
    "for col, (low, high) in outlier_bounds.items():\n",
    "    if col in df_merged.columns:\n",
    "        df_merged[col] = np.clip(df_merged[col], low, high)\n",
    "\n",
    "print(\"Data sorting and cleaning completed successfully!\")"
   ]
  },
  {
   "cell_type": "markdown",
   "id": "9f92ed6b",
   "metadata": {
    "id": "PVmS1gh-eYV1",
    "papermill": {
     "duration": 0.006907,
     "end_time": "2025-05-04T12:36:08.230848",
     "exception": false,
     "start_time": "2025-05-04T12:36:08.223941",
     "status": "completed"
    },
    "tags": []
   },
   "source": [
    "## Exporting Preprocessed Data"
   ]
  },
  {
   "cell_type": "code",
   "execution_count": 10,
   "id": "ceef2277",
   "metadata": {
    "execution": {
     "iopub.execute_input": "2025-05-04T12:36:08.245839Z",
     "iopub.status.busy": "2025-05-04T12:36:08.245580Z",
     "iopub.status.idle": "2025-05-04T12:36:08.617665Z",
     "shell.execute_reply": "2025-05-04T12:36:08.616714Z"
    },
    "id": "fbDyKRxIeZ6B",
    "outputId": "5de3312a-0bae-4a1a-f995-03cd10c2c0c2",
    "papermill": {
     "duration": 0.381008,
     "end_time": "2025-05-04T12:36:08.618934",
     "exception": false,
     "start_time": "2025-05-04T12:36:08.237926",
     "status": "completed"
    },
    "tags": []
   },
   "outputs": [
    {
     "name": "stdout",
     "output_type": "stream",
     "text": [
      "Feature extraction and preprocessing completed. Data saved to 'processed_feature_set_A.csv'.\n"
     ]
    }
   ],
   "source": [
    "df_merged.to_csv(\"processed_feature_set_A.csv\", index=False)\n",
    "\n",
    "print(\"Feature extraction and preprocessing completed. Data saved to 'processed_feature_set_A.csv'.\")"
   ]
  },
  {
   "cell_type": "markdown",
   "id": "cffee4d7",
   "metadata": {
    "id": "JgKe1h7QU_pW",
    "papermill": {
     "duration": 0.008328,
     "end_time": "2025-05-04T12:36:08.635048",
     "exception": false,
     "start_time": "2025-05-04T12:36:08.626720",
     "status": "completed"
    },
    "tags": []
   },
   "source": [
    "## Creating Mortality Target Variables  \n",
    "We add three target variables: in-hospital mortality, 48-hour mortality, and 30-day mortality."
   ]
  },
  {
   "cell_type": "code",
   "execution_count": 11,
   "id": "b13d2893",
   "metadata": {
    "execution": {
     "iopub.execute_input": "2025-05-04T12:36:08.650324Z",
     "iopub.status.busy": "2025-05-04T12:36:08.650088Z",
     "iopub.status.idle": "2025-05-04T12:36:09.126314Z",
     "shell.execute_reply": "2025-05-04T12:36:09.125256Z"
    },
    "id": "hdA2pt7NhB5t",
    "outputId": "7642bca1-a089-4853-d3b3-c9b16310e318",
    "papermill": {
     "duration": 0.485381,
     "end_time": "2025-05-04T12:36:09.127665",
     "exception": false,
     "start_time": "2025-05-04T12:36:08.642284",
     "status": "completed"
    },
    "tags": []
   },
   "outputs": [
    {
     "name": "stdout",
     "output_type": "stream",
     "text": [
      "Mortality        5777\n",
      "Mortality_48h     275\n",
      "Mortality_30d    6517\n",
      "dtype: int64\n",
      "   icustay_id_x            charttime  GCSEyes  GCSMotor  GCSVerbal  GCS_Total  \\\n",
      "0      254635.0  2164-10-23 17:38:00      3.0       4.0        4.0       11.0   \n",
      "1      254635.0  2164-10-24 00:00:00      3.0       4.0        4.0       11.0   \n",
      "2      254635.0  2164-10-24 03:00:00      3.0       4.0        4.0       11.0   \n",
      "3      254635.0  2164-10-25 03:00:00      3.0       4.0        4.0       11.0   \n",
      "4      254635.0  2164-10-25 09:30:00      3.0       4.0        4.0       11.0   \n",
      "\n",
      "   subject_id  hadm_id  icustay_id_y  HeartRate  ...  UrineOutput   BUN  \\\n",
      "0       10006   142345      254635.0       72.0  ...        100.0   9.0   \n",
      "1       10006   142345      254635.0       72.0  ...        100.0   9.0   \n",
      "2       10006   142345      254635.0       72.0  ...        100.0  11.0   \n",
      "3       10006   142345      254635.0       72.0  ...         10.0  11.0   \n",
      "4       10006   142345      254635.0       72.0  ...         10.0  20.0   \n",
      "\n",
      "   Bicarbonate  Bilirubin  Potassium  Sodium  WBC  Mortality  Mortality_48h  \\\n",
      "0         29.0        1.0        6.0   139.0  3.1          0              0   \n",
      "1         29.0        1.0        6.0   139.0  3.1          0              0   \n",
      "2         31.0        1.0        4.4   139.0  3.1          0              0   \n",
      "3         31.0        1.0        4.4   139.0  3.1          0              0   \n",
      "4         29.0        1.0        4.6   138.0  3.1          0              0   \n",
      "\n",
      "   Mortality_30d  \n",
      "0              0  \n",
      "1              0  \n",
      "2              0  \n",
      "3              0  \n",
      "4              0  \n",
      "\n",
      "[5 rows x 25 columns]\n",
      "Mortality label addition successfully completed!\n"
     ]
    }
   ],
   "source": [
    "# Load Data\n",
    "df_final = pd.read_csv(\"processed_feature_set_A.csv\")\n",
    "\n",
    "# Load ADMISSIONS.csv to retrieve DEATHTIME and DISCHTIME\n",
    "df_admissions = pd.read_csv(\"/kaggle/input/mimiciii/mimic-iii-clinical-database-demo-1.4/ADMISSIONS.csv\",\n",
    "                            usecols=[\"subject_id\", \"hadm_id\", \"deathtime\", \"dischtime\"])\n",
    "\n",
    "# Load ICUSTAYS.csv to retrieve INTIME (ICU admission time)\n",
    "df_icustays = pd.read_csv(\"/kaggle/input/mimiciii/mimic-iii-clinical-database-demo-1.4/ICUSTAYS.csv\",\n",
    "                          usecols=[\"subject_id\", \"hadm_id\", \"intime\"])\n",
    "\n",
    "# Load PATIENTS.csv to retrieve DOD (Date of Death)\n",
    "df_patients = pd.read_csv(\"/kaggle/input/mimiciii/mimic-iii-clinical-database-demo-1.4/PATIENTS.csv\",\n",
    "                          usecols=[\"subject_id\", \"dod\"])\n",
    "\n",
    "# Convert dates to datetime format\n",
    "df_admissions[\"deathtime\"] = pd.to_datetime(df_admissions[\"deathtime\"])\n",
    "df_admissions[\"dischtime\"] = pd.to_datetime(df_admissions[\"dischtime\"])\n",
    "df_icustays[\"intime\"] = pd.to_datetime(df_icustays[\"intime\"])\n",
    "df_patients[\"dod\"] = pd.to_datetime(df_patients[\"dod\"])\n",
    "\n",
    "# Merge with ADMISSIONS (In-hospital mortality)\n",
    "df_final = df_final.merge(df_admissions, on=[\"subject_id\", \"hadm_id\"], how=\"left\")\n",
    "\n",
    "# Merge with PATIENTS (DOD)\n",
    "df_final = df_final.merge(df_patients, on=\"subject_id\", how=\"left\")\n",
    "\n",
    "# Merge with ICUSTAYS (INTIME for ICU admission)\n",
    "df_final = df_final.merge(df_icustays, on=[\"subject_id\", \"hadm_id\"], how=\"left\")\n",
    "\n",
    "# Create the in-hospital mortality column\n",
    "df_final[\"Mortality\"] = df_final[\"deathtime\"].notnull().astype(int)\n",
    "\n",
    "# Create 48-hour mortality after ICU admission\n",
    "df_final[\"Mortality_48h\"] = ((df_final[\"dod\"] - df_final[\"intime\"]).dt.total_seconds() / 3600 < 48).astype(int)\n",
    "\n",
    "# Create 30-day mortality after hospital discharge\n",
    "df_final[\"Mortality_30d\"] = ((df_final[\"dod\"] - df_final[\"dischtime\"]).dt.days < 30).astype(int)\n",
    "\n",
    "# Drop unnecessary columns\n",
    "df_final.drop(columns=[\"deathtime\", \"dischtime\", \"dod\", \"intime\"], inplace=True)\n",
    "\n",
    "# Save the final dataset\n",
    "df_final.to_csv(\"final_dataset_with_mortality.csv\", index=False)\n",
    "\n",
    "# Check label distribution\n",
    "print(df_final[[\"Mortality\", \"Mortality_48h\", \"Mortality_30d\"]].sum())\n",
    "print(df_final.head())\n",
    "print(\"Mortality label addition successfully completed!\")\n"
   ]
  },
  {
   "cell_type": "markdown",
   "id": "c05dd7a9",
   "metadata": {
    "id": "fSM6f3wfcwyG",
    "papermill": {
     "duration": 0.007023,
     "end_time": "2025-05-04T12:36:09.142557",
     "exception": false,
     "start_time": "2025-05-04T12:36:09.135534",
     "status": "completed"
    },
    "tags": []
   },
   "source": [
    "# 2. Preparation for Federated Learning  \n",
    "\n",
    "## Data Splitting and Shuffling  \n",
    "The data is divided between survivors and deceased patients."
   ]
  },
  {
   "cell_type": "code",
   "execution_count": 12,
   "id": "03e21248",
   "metadata": {
    "execution": {
     "iopub.execute_input": "2025-05-04T12:36:09.157888Z",
     "iopub.status.busy": "2025-05-04T12:36:09.157657Z",
     "iopub.status.idle": "2025-05-04T12:36:09.163998Z",
     "shell.execute_reply": "2025-05-04T12:36:09.163438Z"
    },
    "id": "M9EqHoTPaGHz",
    "papermill": {
     "duration": 0.01527,
     "end_time": "2025-05-04T12:36:09.165116",
     "exception": false,
     "start_time": "2025-05-04T12:36:09.149846",
     "status": "completed"
    },
    "tags": []
   },
   "outputs": [],
   "source": [
    "mortality_0 = df_final[df_final['Mortality'] == 0]\n",
    "mortality_1 = df_final[df_final['Mortality'] == 1]"
   ]
  },
  {
   "cell_type": "markdown",
   "id": "374c094e",
   "metadata": {
    "id": "xSaJDbdL4355",
    "papermill": {
     "duration": 0.007058,
     "end_time": "2025-05-04T12:36:09.179627",
     "exception": false,
     "start_time": "2025-05-04T12:36:09.172569",
     "status": "completed"
    },
    "tags": []
   },
   "source": [
    "They are randomly shuffled."
   ]
  },
  {
   "cell_type": "code",
   "execution_count": 13,
   "id": "fda5ddfa",
   "metadata": {
    "execution": {
     "iopub.execute_input": "2025-05-04T12:36:09.194807Z",
     "iopub.status.busy": "2025-05-04T12:36:09.194598Z",
     "iopub.status.idle": "2025-05-04T12:36:09.204854Z",
     "shell.execute_reply": "2025-05-04T12:36:09.204251Z"
    },
    "id": "ST8aqdJ0BFnG",
    "papermill": {
     "duration": 0.019108,
     "end_time": "2025-05-04T12:36:09.205998",
     "exception": false,
     "start_time": "2025-05-04T12:36:09.186890",
     "status": "completed"
    },
    "tags": []
   },
   "outputs": [],
   "source": [
    "mortality_0 = mortality_0.sample(frac=1, random_state=42).reset_index(drop=True)\n",
    "mortality_1 = mortality_1.sample(frac=1, random_state=42).reset_index(drop=True)"
   ]
  },
  {
   "cell_type": "markdown",
   "id": "bbd30257",
   "metadata": {
    "id": "XF1AyYRMP23y",
    "papermill": {
     "duration": 0.007043,
     "end_time": "2025-05-04T12:36:09.220524",
     "exception": false,
     "start_time": "2025-05-04T12:36:09.213481",
     "status": "completed"
    },
    "tags": []
   },
   "source": [
    "## Defining the Number of Clients  \n",
    "We have chosen 10 clients for federated learning."
   ]
  },
  {
   "cell_type": "code",
   "execution_count": 14,
   "id": "1a61be6a",
   "metadata": {
    "execution": {
     "iopub.execute_input": "2025-05-04T12:36:09.235774Z",
     "iopub.status.busy": "2025-05-04T12:36:09.235566Z",
     "iopub.status.idle": "2025-05-04T12:36:09.238240Z",
     "shell.execute_reply": "2025-05-04T12:36:09.237679Z"
    },
    "id": "YJr1jFZJP1HX",
    "papermill": {
     "duration": 0.011677,
     "end_time": "2025-05-04T12:36:09.239491",
     "exception": false,
     "start_time": "2025-05-04T12:36:09.227814",
     "status": "completed"
    },
    "tags": []
   },
   "outputs": [],
   "source": [
    "num_clients = 10"
   ]
  },
  {
   "cell_type": "markdown",
   "id": "000042ac",
   "metadata": {
    "id": "WyWrhy70c12N",
    "papermill": {
     "duration": 0.006973,
     "end_time": "2025-05-04T12:36:09.253848",
     "exception": false,
     "start_time": "2025-05-04T12:36:09.246875",
     "status": "completed"
    },
    "tags": []
   },
   "source": [
    "## Non-IID Distribution Function  \n",
    "We create a function to distribute the data in a non-identically distributed manner among clients to closely resemble real-world scenarios."
   ]
  },
  {
   "cell_type": "code",
   "execution_count": 15,
   "id": "95374f15",
   "metadata": {
    "execution": {
     "iopub.execute_input": "2025-05-04T12:36:09.269242Z",
     "iopub.status.busy": "2025-05-04T12:36:09.268999Z",
     "iopub.status.idle": "2025-05-04T12:36:09.274513Z",
     "shell.execute_reply": "2025-05-04T12:36:09.273642Z"
    },
    "id": "Odwkj1c8buJz",
    "papermill": {
     "duration": 0.01472,
     "end_time": "2025-05-04T12:36:09.275905",
     "exception": false,
     "start_time": "2025-05-04T12:36:09.261185",
     "status": "completed"
    },
    "tags": []
   },
   "outputs": [],
   "source": [
    "def create_non_iid_distribution(data_0, data_1, num_clients, alpha=0.8):\n",
    "    np.random.seed(None)  # Random seed for different results\n",
    "\n",
    "    # Concatenate both classes together and shuffle\n",
    "    data = pd.concat([data_0, data_1]).sample(frac=1, random_state=42).reset_index(drop=True)\n",
    "\n",
    "    # Ensure each client gets at least 2 samples\n",
    "    min_samples_per_client = 2\n",
    "    total_samples = len(data)\n",
    "\n",
    "    # Subtract minimum samples already assigned\n",
    "    remaining_samples = total_samples - (num_clients * min_samples_per_client)\n",
    "\n",
    "    # Generate proportions for remaining samples\n",
    "    proportions = np.random.dirichlet(np.repeat(alpha, num_clients))\n",
    "    counts = (proportions * remaining_samples).astype(int)\n",
    "\n",
    "    # Ensure rounding errors do not cause a mismatch\n",
    "    counts[-1] += remaining_samples - counts.sum()\n",
    "\n",
    "    # Add back the minimum samples to each client\n",
    "    counts += min_samples_per_client\n",
    "\n",
    "    client_data = []\n",
    "    start_idx = 0\n",
    "\n",
    "    for i in range(num_clients):\n",
    "        end_idx = start_idx + counts[i]\n",
    "        client_df = data.iloc[start_idx:end_idx].sample(frac=1, random_state=i)  # Shuffle\n",
    "        client_data.append(client_df.reset_index(drop=True))\n",
    "        start_idx = end_idx\n",
    "\n",
    "    return client_data"
   ]
  },
  {
   "cell_type": "markdown",
   "id": "c447ac0d",
   "metadata": {
    "id": "3BxeaU4hQHrb",
    "papermill": {
     "duration": 0.007217,
     "end_time": "2025-05-04T12:36:09.290538",
     "exception": false,
     "start_time": "2025-05-04T12:36:09.283321",
     "status": "completed"
    },
    "tags": []
   },
   "source": [
    "# Applying Non-IID Distribution  \n",
    "We apply the non-IID distribution with an alpha parameter of 0.8."
   ]
  },
  {
   "cell_type": "code",
   "execution_count": 16,
   "id": "0bf62e7d",
   "metadata": {
    "execution": {
     "iopub.execute_input": "2025-05-04T12:36:09.306147Z",
     "iopub.status.busy": "2025-05-04T12:36:09.305920Z",
     "iopub.status.idle": "2025-05-04T12:36:09.327309Z",
     "shell.execute_reply": "2025-05-04T12:36:09.326653Z"
    },
    "id": "OhdFrFOvQFa8",
    "papermill": {
     "duration": 0.030751,
     "end_time": "2025-05-04T12:36:09.328762",
     "exception": false,
     "start_time": "2025-05-04T12:36:09.298011",
     "status": "completed"
    },
    "tags": []
   },
   "outputs": [],
   "source": [
    "client_data = create_non_iid_distribution(mortality_0, mortality_1, num_clients, alpha=0.8)"
   ]
  },
  {
   "cell_type": "markdown",
   "id": "66a4ea71",
   "metadata": {
    "id": "ZQ8eZBqRQOk_",
    "papermill": {
     "duration": 0.007391,
     "end_time": "2025-05-04T12:36:09.344009",
     "exception": false,
     "start_time": "2025-05-04T12:36:09.336618",
     "status": "completed"
    },
    "tags": []
   },
   "source": [
    "# Visualization of Distribution  \n",
    "We visualize and save the distribution of classes among the clients."
   ]
  },
  {
   "cell_type": "code",
   "execution_count": 17,
   "id": "d9623236",
   "metadata": {
    "execution": {
     "iopub.execute_input": "2025-05-04T12:36:09.359634Z",
     "iopub.status.busy": "2025-05-04T12:36:09.359343Z",
     "iopub.status.idle": "2025-05-04T12:36:10.756019Z",
     "shell.execute_reply": "2025-05-04T12:36:10.754963Z"
    },
    "id": "tHSSFBiXcCoT",
    "outputId": "84ae0202-5c1f-4f52-bbee-20cf1ecab1ee",
    "papermill": {
     "duration": 1.406046,
     "end_time": "2025-05-04T12:36:10.757413",
     "exception": false,
     "start_time": "2025-05-04T12:36:09.351367",
     "status": "completed"
    },
    "tags": []
   },
   "outputs": [
    {
     "name": "stdout",
     "output_type": "stream",
     "text": [
      "Distribution of classes across clients:\n",
      "Client 1:\n",
      "  Class 0 (Survived): 878 samples (79.5%)\n",
      "  Class 1 (Died): 226 samples (20.5%)\n",
      "  Total: 1104 samples\n",
      "------------------------------\n",
      "Client 2:\n",
      "  Class 0 (Survived): 2944 samples (79.9%)\n",
      "  Class 1 (Died): 739 samples (20.1%)\n",
      "  Total: 3683 samples\n",
      "------------------------------\n",
      "Client 3:\n",
      "  Class 0 (Survived): 5344 samples (79.9%)\n",
      "  Class 1 (Died): 1347 samples (20.1%)\n",
      "  Total: 6691 samples\n",
      "------------------------------\n",
      "Client 4:\n",
      "  Class 0 (Survived): 872 samples (82.5%)\n",
      "  Class 1 (Died): 185 samples (17.5%)\n",
      "  Total: 1057 samples\n",
      "------------------------------\n",
      "Client 5:\n",
      "  Class 0 (Survived): 3146 samples (79.6%)\n",
      "  Class 1 (Died): 804 samples (20.4%)\n",
      "  Total: 3950 samples\n",
      "------------------------------\n",
      "Client 6:\n",
      "  Class 0 (Survived): 3144 samples (79.5%)\n",
      "  Class 1 (Died): 812 samples (20.5%)\n",
      "  Total: 3956 samples\n",
      "------------------------------\n",
      "Client 7:\n",
      "  Class 0 (Survived): 93 samples (83.8%)\n",
      "  Class 1 (Died): 18 samples (16.2%)\n",
      "  Total: 111 samples\n",
      "------------------------------\n",
      "Client 8:\n",
      "  Class 0 (Survived): 655 samples (80.5%)\n",
      "  Class 1 (Died): 159 samples (19.5%)\n",
      "  Total: 814 samples\n",
      "------------------------------\n",
      "Client 9:\n",
      "  Class 0 (Survived): 1058 samples (79.6%)\n",
      "  Class 1 (Died): 271 samples (20.4%)\n",
      "  Total: 1329 samples\n",
      "------------------------------\n",
      "Client 10:\n",
      "  Class 0 (Survived): 4392 samples (78.3%)\n",
      "  Class 1 (Died): 1216 samples (21.7%)\n",
      "  Total: 5608 samples\n",
      "------------------------------\n"
     ]
    },
    {
     "data": {
      "image/png": "[encoded data removed]",
      "text/plain": [
       "<Figure size 1500x500 with 2 Axes>"
      ]
     },
     "metadata": {},
     "output_type": "display_data"
    },
    {
     "name": "stdout",
     "output_type": "stream",
     "text": [
      "Non-IID data partitioning complete with 10 clients.\n"
     ]
    }
   ],
   "source": [
    "def visualize_distribution(client_data):\n",
    "    # Prepare data for plotting\n",
    "    class_0_counts = []\n",
    "    class_1_counts = []\n",
    "    class_0_percent = []\n",
    "    total_samples = []\n",
    "\n",
    "    print(\"Distribution of classes across clients:\")\n",
    "    for i, client in enumerate(client_data):\n",
    "        counts = client['Mortality'].value_counts().to_dict()\n",
    "        count_0 = counts.get(0, 0)\n",
    "        count_1 = counts.get(1, 0)\n",
    "        total = len(client)\n",
    "\n",
    "        class_0_counts.append(count_0)\n",
    "        class_1_counts.append(count_1)\n",
    "        class_0_percent.append(100 * count_0 / total)\n",
    "        total_samples.append(total)\n",
    "\n",
    "        print(f\"Client {i+1}:\")\n",
    "        print(f\"  Class 0 (Survived): {count_0} samples ({count_0/total:.1%})\")\n",
    "        print(f\"  Class 1 (Died): {count_1} samples ({count_1/total:.1%})\")\n",
    "        print(f\"  Total: {total} samples\")\n",
    "        print(\"-\" * 30)\n",
    "\n",
    "    # Create plots\n",
    "    fig, (ax1, ax2) = plt.subplots(1, 2, figsize=(15, 5))\n",
    "\n",
    "    # Plot raw counts\n",
    "    x = np.arange(num_clients)\n",
    "    width = 0.35\n",
    "    ax1.bar(x, class_0_counts, width, label='Survived')\n",
    "    ax1.bar(x, class_1_counts, width, bottom=class_0_counts, label='Died')\n",
    "    ax1.set_xlabel('Client ID')\n",
    "    ax1.set_ylabel('Number of Samples')\n",
    "    ax1.set_title('Non-IID Distribution: Sample Counts')\n",
    "    ax1.set_xticks(x)\n",
    "    ax1.set_xticklabels([f'{i+1}' for i in range(num_clients)])\n",
    "    ax1.legend()\n",
    "\n",
    "    # Plot percentage of class 0\n",
    "    ax2.bar(x, class_0_percent)\n",
    "    ax2.set_xlabel('Client ID')\n",
    "    ax2.set_ylabel('Percentage of Survived (%)')\n",
    "    ax2.set_title('Non-IID Distribution: % of Class 0 (Survived)')\n",
    "    ax2.set_xticks(x)\n",
    "    ax2.set_xticklabels([f'{i+1}' for i in range(num_clients)])\n",
    "    ax2.set_ylim(0, 100)\n",
    "\n",
    "    plt.tight_layout()\n",
    "    plt.savefig('non_iid_distribution.png', dpi=300)\n",
    "    plt.show()\n",
    "\n",
    "# Visualize the non-IID distribution\n",
    "visualize_distribution(client_data)\n",
    "\n",
    "for i, client_df in enumerate(client_data):\n",
    "    client_df.to_csv(f\"client_{i+1}_data.csv\", index=False)\n",
    "\n",
    "print(f\"Non-IID data partitioning complete with {num_clients} clients.\")"
   ]
  },
  {
   "cell_type": "markdown",
   "id": "cbf35b31",
   "metadata": {
    "id": "iB2D2aArWqO5",
    "papermill": {
     "duration": 0.00801,
     "end_time": "2025-05-04T12:36:10.774177",
     "exception": false,
     "start_time": "2025-05-04T12:36:10.766167",
     "status": "completed"
    },
    "tags": []
   },
   "source": [
    "# 3. Implementation of Federated Learning  \n",
    "## PyTorch Setup  \n",
    "We import the necessary libraries."
   ]
  },
  {
   "cell_type": "code",
   "execution_count": 18,
   "id": "dd899590",
   "metadata": {
    "execution": {
     "iopub.execute_input": "2025-05-04T12:36:10.791672Z",
     "iopub.status.busy": "2025-05-04T12:36:10.791346Z",
     "iopub.status.idle": "2025-05-04T12:36:13.875549Z",
     "shell.execute_reply": "2025-05-04T12:36:13.874748Z"
    },
    "id": "TZDl5tn_OWYm",
    "papermill": {
     "duration": 3.094716,
     "end_time": "2025-05-04T12:36:13.877089",
     "exception": false,
     "start_time": "2025-05-04T12:36:10.782373",
     "status": "completed"
    },
    "tags": []
   },
   "outputs": [],
   "source": [
    "import torch\n",
    "import torch.nn as nn\n",
    "import torch.nn.functional as F\n",
    "import torch.optim as optim\n",
    "from torch.utils.data import DataLoader, TensorDataset"
   ]
  },
  {
   "cell_type": "markdown",
   "id": "43003c34",
   "metadata": {
    "id": "f9nK6wkxWxIP",
    "papermill": {
     "duration": 0.008141,
     "end_time": "2025-05-04T12:36:13.894148",
     "exception": false,
     "start_time": "2025-05-04T12:36:13.886007",
     "status": "completed"
    },
    "tags": []
   },
   "source": [
    "## Neural Network Definition  \n",
    "We create a class for a two-layer neural network with dropout regularization."
   ]
  },
  {
   "cell_type": "code",
   "execution_count": 19,
   "id": "4c88754e",
   "metadata": {
    "execution": {
     "iopub.execute_input": "2025-05-04T12:36:13.911925Z",
     "iopub.status.busy": "2025-05-04T12:36:13.911505Z",
     "iopub.status.idle": "2025-05-04T12:36:13.916674Z",
     "shell.execute_reply": "2025-05-04T12:36:13.916073Z"
    },
    "id": "kImWT94OOadV",
    "papermill": {
     "duration": 0.015381,
     "end_time": "2025-05-04T12:36:13.917903",
     "exception": false,
     "start_time": "2025-05-04T12:36:13.902522",
     "status": "completed"
    },
    "tags": []
   },
   "outputs": [],
   "source": [
    "class NeuralNetwork(nn.Module):\n",
    "    def __init__(self, input_dim, hidden_dim, output_dim, dropout_prob=0.5):\n",
    "        \"\"\"\n",
    "        Initialize the NeuralNetwork model.\n",
    "\n",
    "        Args:\n",
    "            input_dim (int): Number of input features.\n",
    "            hidden_dim (int): Number of neurons in the hidden layer.\n",
    "            output_dim (int): Number of output classes (1 for binary classification).\n",
    "            dropout_prob (float): Dropout probability for regularization (default: 0.5).\n",
    "        \"\"\"\n",
    "        super(NeuralNetwork, self).__init__()  # Initialize the parent class (nn.Module)\n",
    "\n",
    "        # First fully connected layer (input to hidden layer)\n",
    "        self.layer_1 = nn.Linear(input_dim, hidden_dim)\n",
    "        # Initialize weights using Kaiming (He) initialization for ReLU activation\n",
    "        nn.init.kaiming_uniform_(self.layer_1.weight, nonlinearity=\"relu\")\n",
    "\n",
    "        # Second fully connected layer (hidden layer to output layer)\n",
    "        self.layer_2 = nn.Linear(hidden_dim, output_dim)\n",
    "        # Initialize weights using Xavier (Glorot) initialization for the output layer\n",
    "        nn.init.xavier_uniform_(self.layer_2.weight)\n",
    "\n",
    "        # Dropout layer for regularization\n",
    "        self.dropout = nn.Dropout(dropout_prob)\n",
    "\n",
    "    def forward(self, x):\n",
    "        \"\"\"\n",
    "        Forward pass through the network.\n",
    "\n",
    "        Args:\n",
    "            x (torch.Tensor): Input tensor of shape (batch_size, input_dim).\n",
    "\n",
    "        Returns:\n",
    "            torch.Tensor: Output tensor of shape (batch_size, output_dim).\n",
    "        \"\"\"\n",
    "        # Apply the first fully connected layer followed by ReLU activation\n",
    "        x = F.relu(self.layer_1(x))\n",
    "\n",
    "        # Apply dropout for regularization\n",
    "        x = self.dropout(x)\n",
    "\n",
    "        # Apply the second fully connected layer\n",
    "        x = self.layer_2(x)\n",
    "\n",
    "        return x"
   ]
  },
  {
   "cell_type": "markdown",
   "id": "fff0b562",
   "metadata": {
    "id": "Lsq9A6x8W7b2",
    "papermill": {
     "duration": 0.00789,
     "end_time": "2025-05-04T12:36:13.934147",
     "exception": false,
     "start_time": "2025-05-04T12:36:13.926257",
     "status": "completed"
    },
    "tags": []
   },
   "source": [
    "## Client Class for Federated Learning  \n",
    "We define a client class with methods for data preparation, training, and model evaluation."
   ]
  },
  {
   "cell_type": "code",
   "execution_count": 20,
   "id": "07d57d86",
   "metadata": {
    "execution": {
     "iopub.execute_input": "2025-05-04T12:36:13.951454Z",
     "iopub.status.busy": "2025-05-04T12:36:13.951149Z",
     "iopub.status.idle": "2025-05-04T12:36:13.961378Z",
     "shell.execute_reply": "2025-05-04T12:36:13.960798Z"
    },
    "id": "NsYYcFjFOcnS",
    "papermill": {
     "duration": 0.020376,
     "end_time": "2025-05-04T12:36:13.962627",
     "exception": false,
     "start_time": "2025-05-04T12:36:13.942251",
     "status": "completed"
    },
    "tags": []
   },
   "outputs": [],
   "source": [
    "class FederatedClient:\n",
    "    def __init__(self, client_id, train_data, test_data, input_dim, hidden_dim, output_dim, dropout_prob=0.5, lr=0.001):\n",
    "        \"\"\"\n",
    "        Initialize a federated learning client.\n",
    "\n",
    "        Args:\n",
    "            client_id (str): Unique identifier for the client.\n",
    "            train_data (tuple): Tuple of (features, labels) for training data.\n",
    "            test_data (tuple): Tuple of (features, labels) for test data.\n",
    "            input_dim (int): Number of input features.\n",
    "            hidden_dim (int): Number of neurons in the hidden layer.\n",
    "            output_dim (int): Number of output classes (1 for binary classification).\n",
    "            dropout_prob (float): Dropout probability for regularization (default: 0.5).\n",
    "            lr (float): Learning rate for the optimizer (default: 0.001).\n",
    "        \"\"\"\n",
    "        self.client_id = client_id\n",
    "        self.input_dim = input_dim\n",
    "        self.hidden_dim = hidden_dim\n",
    "        self.output_dim = output_dim\n",
    "        self.dropout_prob = dropout_prob\n",
    "        self.lr = lr\n",
    "\n",
    "        # Prepare training and test data\n",
    "        self.train_loader = self._prepare_data(train_data)\n",
    "        self.test_loader = self._prepare_data(test_data)\n",
    "\n",
    "        # Initialize the local model\n",
    "        self.model = NeuralNetwork(input_dim, hidden_dim, output_dim, dropout_prob)\n",
    "        self.criterion = nn.BCEWithLogitsLoss()  # Binary cross-entropy loss with logits\n",
    "        self.optimizer = optim.Adam(self.model.parameters(), lr=lr)\n",
    "\n",
    "    def _prepare_data(self, data):\n",
    "        \"\"\"\n",
    "        Convert raw data into a PyTorch DataLoader.\n",
    "\n",
    "        Args:\n",
    "            data (tuple): Tuple of (features, labels).\n",
    "\n",
    "        Returns:\n",
    "            DataLoader: PyTorch DataLoader for the given data.\n",
    "        \"\"\"\n",
    "        features, labels = data\n",
    "        dataset = TensorDataset(torch.tensor(features, dtype=torch.float32),\n",
    "                               torch.tensor(labels, dtype=torch.float32).reshape(-1, 1))\n",
    "        return DataLoader(dataset, batch_size=32, shuffle=True)\n",
    "\n",
    "    def train(self, global_model_weights):\n",
    "        \"\"\"\n",
    "        Train the local model using the client's data.\n",
    "\n",
    "        Args:\n",
    "            global_model_weights (dict): State dictionary of the global model weights.\n",
    "\n",
    "        Returns:\n",
    "            dict: Updated local model weights.\n",
    "        \"\"\"\n",
    "        # Load the global model weights into the local model\n",
    "        self.model.load_state_dict(global_model_weights)\n",
    "        self.model.train()\n",
    "\n",
    "        # Local training loop\n",
    "        for epoch in range(10):  # Train for 10 epochs (can be adjusted)\n",
    "            for batch_x, batch_y in self.train_loader:\n",
    "                self.optimizer.zero_grad()\n",
    "                outputs = self.model(batch_x)\n",
    "                loss = self.criterion(outputs, batch_y)\n",
    "                loss.backward()\n",
    "                self.optimizer.step()\n",
    "\n",
    "        # Return the updated model weights\n",
    "        return self.model.state_dict()\n",
    "\n",
    "    def evaluate(self):\n",
    "        \"\"\"\n",
    "        Evaluate the local model on the client's test data.\n",
    "\n",
    "        Returns:\n",
    "            float: Accuracy of the model on the test data.\n",
    "        \"\"\"\n",
    "        self.model.eval()\n",
    "        correct = 0\n",
    "        total = 0\n",
    "        with torch.no_grad():\n",
    "            for batch_x, batch_y in self.test_loader:\n",
    "                outputs = self.model(batch_x)\n",
    "                predicted = (torch.sigmoid(outputs) > 0.5).float()\n",
    "                total += batch_y.size(0)\n",
    "                correct += (predicted == batch_y).sum().item()\n",
    "\n",
    "        accuracy = 100 * correct / total\n",
    "        return accuracy\n",
    "    def evaluate_train(self):\n",
    "      \"\"\"\n",
    "      Evaluate the local model on the training data.\n",
    "      Returns:  \n",
    "          `float`: Accuracy on the training set.\n",
    "      \"\"\"\n",
    "      self.model.eval()\n",
    "      correct = 0\n",
    "      total = 0\n",
    "      with torch.no_grad():\n",
    "          for batch_x, batch_y in self.train_loader:\n",
    "              outputs = self.model(batch_x)\n",
    "              predicted = (torch.sigmoid(outputs) > 0.5).float()\n",
    "              total += batch_y.size(0)\n",
    "              correct += (predicted == batch_y).sum().item()\n",
    "      return 100 * correct / total\n",
    "    def calculate_loss(self, data_loader):\n",
    "      \"\"\"\n",
    "      Computes the model's average loss on a given DataLoader.\n",
    "\n",
    "      Args:\n",
    "          data_loader (DataLoader):  DataLoader containing the data for evaluation.\n",
    "\n",
    "      Returns:\n",
    "          float: Average loss.\n",
    "      \"\"\"\n",
    "      self.model.eval()\n",
    "      total_loss = 0.0\n",
    "      total_samples = 0\n",
    "\n",
    "      with torch.no_grad():\n",
    "          for batch_x, batch_y in data_loader:\n",
    "              outputs = self.model(batch_x)\n",
    "              loss = self.criterion(outputs, batch_y)\n",
    "              total_loss += loss.item() * batch_y.size(0)\n",
    "              total_samples += batch_y.size(0)\n",
    "\n",
    "      return total_loss / total_samples\n",
    "\n"
   ]
  },
  {
   "cell_type": "markdown",
   "id": "dbd5dc95",
   "metadata": {
    "id": "hZL6lmr8XAPA",
    "papermill": {
     "duration": 0.007911,
     "end_time": "2025-05-04T12:36:13.978877",
     "exception": false,
     "start_time": "2025-05-04T12:36:13.970966",
     "status": "completed"
    },
    "tags": []
   },
   "source": [
    "## Server Class for Federated Learning  \n",
    "We define the server class, which aggregates model weights and orchestrates the learning process."
   ]
  },
  {
   "cell_type": "code",
   "execution_count": 21,
   "id": "ff88ece9",
   "metadata": {
    "execution": {
     "iopub.execute_input": "2025-05-04T12:36:13.996556Z",
     "iopub.status.busy": "2025-05-04T12:36:13.996237Z",
     "iopub.status.idle": "2025-05-04T12:36:14.003720Z",
     "shell.execute_reply": "2025-05-04T12:36:14.002891Z"
    },
    "id": "5BnllYGhScIN",
    "papermill": {
     "duration": 0.017756,
     "end_time": "2025-05-04T12:36:14.005020",
     "exception": false,
     "start_time": "2025-05-04T12:36:13.987264",
     "status": "completed"
    },
    "tags": []
   },
   "outputs": [],
   "source": [
    "class FederatedServer:\n",
    "    def __init__(self, global_model, clients):\n",
    "        \"\"\"\n",
    "        Initialize the federated learning server.\n",
    "\n",
    "        Args:\n",
    "            global_model (nn.Module): The global model to be trained.\n",
    "            clients (list): List of FederatedClient instances.\n",
    "        \"\"\"\n",
    "        self.global_model = global_model\n",
    "        self.clients = clients\n",
    "\n",
    "    def aggregate_weights(self, client_weights):\n",
    "        \"\"\"\n",
    "        Aggregate client model weights using Federated Averaging.\n",
    "\n",
    "        Args:\n",
    "            client_weights (list): List of state dictionaries from clients.\n",
    "\n",
    "        Returns:\n",
    "            dict: Aggregated global model weights.\n",
    "        \"\"\"\n",
    "        global_weights = self.global_model.state_dict()\n",
    "\n",
    "        # Average the weights\n",
    "        for key in global_weights:\n",
    "            global_weights[key] = torch.stack([client_weights[i][key] for i in range(len(client_weights))]).mean(0)\n",
    "\n",
    "        return global_weights\n",
    "\n",
    "    def run_federated_learning(self, num_rounds):\n",
    "        \"\"\"\n",
    "        Run the federated learning process for a specified number of rounds.\n",
    "\n",
    "        Args:\n",
    "            num_rounds (int): Number of federated learning rounds.\n",
    "        \"\"\"\n",
    "        for round in range(num_rounds):\n",
    "            print(f\"Round {round + 1}/{num_rounds}\")\n",
    "\n",
    "            # List to store updated weights from clients\n",
    "            client_weights = []\n",
    "\n",
    "            # Train each client and collect updated weights\n",
    "            for client in self.clients:\n",
    "                print(f\"Training {client.client_id}...\")\n",
    "                updated_weights = client.train(self.global_model.state_dict())\n",
    "                client_weights.append(updated_weights)\n",
    "\n",
    "                # Evaluate the client's model\n",
    "                accuracy = client.evaluate()\n",
    "                print(f\"{client.client_id} Test Accuracy: {accuracy:.2f}%\")\n",
    "\n",
    "            # Aggregate client weights to update the global model\n",
    "            global_weights = self.aggregate_weights(client_weights)\n",
    "            self.global_model.load_state_dict(global_weights)\n",
    "\n",
    "            # Evaluate the global model on all clients' test data\n",
    "            global_accuracy = self.evaluate_global_model()\n",
    "            print(f\"Global Model Test Accuracy: {global_accuracy:.2f}%\")\n",
    "\n",
    "    def evaluate_global_model(self):\n",
    "        \"\"\"\n",
    "        Evaluate the global model on all clients' test data.\n",
    "\n",
    "        Returns:\n",
    "            float: Average accuracy of the global model across all clients.\n",
    "        \"\"\"\n",
    "        self.global_model.eval()\n",
    "        total_accuracy = 0\n",
    "\n",
    "        for client in self.clients:\n",
    "            correct = 0\n",
    "            total = 0\n",
    "            with torch.no_grad():\n",
    "                for batch_x, batch_y in client.test_loader:\n",
    "                    outputs = self.global_model(batch_x)\n",
    "                    predicted = (torch.sigmoid(outputs) > 0.5).float()\n",
    "                    total += batch_y.size(0)\n",
    "                    correct += (predicted == batch_y).sum().item()\n",
    "\n",
    "            accuracy = 100 * correct / total\n",
    "            total_accuracy += accuracy\n",
    "\n",
    "        return total_accuracy / len(self.clients)"
   ]
  },
  {
   "cell_type": "markdown",
   "id": "87482043",
   "metadata": {
    "id": "jF5JhDfxuqib",
    "papermill": {
     "duration": 0.007988,
     "end_time": "2025-05-04T12:36:14.022184",
     "exception": false,
     "start_time": "2025-05-04T12:36:14.014196",
     "status": "completed"
    },
    "tags": []
   },
   "source": [
    "# Tracking Metrics and Early Stopping  \n",
    "This function orchestrates the federated learning process by collecting performance metrics (accuracy, loss) on training and test sets at each round. It also implements an early stopping mechanism that halts training when performance no longer improves sufficiently."
   ]
  },
  {
   "cell_type": "code",
   "execution_count": 22,
   "id": "c4907486",
   "metadata": {
    "execution": {
     "iopub.execute_input": "2025-05-04T12:36:14.039711Z",
     "iopub.status.busy": "2025-05-04T12:36:14.039447Z",
     "iopub.status.idle": "2025-05-04T12:36:14.049260Z",
     "shell.execute_reply": "2025-05-04T12:36:14.048426Z"
    },
    "id": "l-Ua0VR_itNi",
    "papermill": {
     "duration": 0.020077,
     "end_time": "2025-05-04T12:36:14.050485",
     "exception": false,
     "start_time": "2025-05-04T12:36:14.030408",
     "status": "completed"
    },
    "tags": []
   },
   "outputs": [],
   "source": [
    "def run_federated_learning_with_metrics_and_early_stopping(federated_server, max_rounds=10, patience=3, min_improvement=0.001):\n",
    "    \"\"\"  \n",
    "    Runs federated learning by collecting train/test metrics and implementing early stopping.  \n",
    "    \"\"\"\n",
    "    train_accuracies = []\n",
    "    test_accuracies = []\n",
    "    train_losses = []\n",
    "    test_losses = []\n",
    "    history = []\n",
    "    best_accuracy = 0\n",
    "    rounds_without_improvement = 0\n",
    "\n",
    "    for round_num in range(max_rounds):\n",
    "        print(f\"Round {round_num + 1}/{max_rounds}\")\n",
    "\n",
    "        #  List to store client weights\n",
    "        client_weights = []\n",
    "\n",
    "        # Train each client and collect metrics\n",
    "        round_train_accuracies = []\n",
    "        round_test_accuracies = []\n",
    "        round_train_losses = []\n",
    "        round_test_losses = []\n",
    "\n",
    "        for client in federated_server.clients:\n",
    "            updated_weights = client.train(federated_server.global_model.state_dict())\n",
    "            client_weights.append(updated_weights)\n",
    "\n",
    "            # Evaluate on train and test sets\n",
    "            train_acc = client.evaluate_train()\n",
    "            test_acc = client.evaluate()\n",
    "\n",
    "            # Compute losses\n",
    "            train_loss = client.calculate_loss(client.train_loader)\n",
    "            test_loss = client.calculate_loss(client.test_loader)\n",
    "\n",
    "            round_train_accuracies.append(train_acc)\n",
    "            round_test_accuracies.append(test_acc)\n",
    "            round_train_losses.append(train_loss)\n",
    "            round_test_losses.append(test_loss)\n",
    "\n",
    "        # Aggregate weights as before\n",
    "        global_weights = federated_server.aggregate_weights(client_weights)\n",
    "        federated_server.global_model.load_state_dict(global_weights)\n",
    "\n",
    "        # Compute average accuracies for this round\n",
    "        avg_train_accuracy = sum(round_train_accuracies) / len(round_train_accuracies)\n",
    "        avg_test_accuracy = sum(round_test_accuracies) / len(round_test_accuracies)\n",
    "\n",
    "        # Compute average losses\n",
    "        avg_train_loss = sum(round_train_losses) / len(round_train_losses)\n",
    "        avg_test_loss = sum(round_test_losses) / len(round_test_losses)\n",
    "\n",
    "        train_accuracies.append(avg_train_accuracy)\n",
    "        test_accuracies.append(avg_test_accuracy)\n",
    "        train_losses.append(avg_train_loss)\n",
    "        test_losses.append(avg_test_loss)\n",
    "\n",
    "        # Evaluate the global model for early stopping\n",
    "        global_accuracy = federated_server.evaluate_global_model()\n",
    "        history.append(global_accuracy)\n",
    "\n",
    "        # Check for early stopping\n",
    "        if global_accuracy > best_accuracy + min_improvement:\n",
    "            best_accuracy = global_accuracy\n",
    "            rounds_without_improvement = 0\n",
    "        else:\n",
    "            rounds_without_improvement += 1\n",
    "            print(f\"No significant improvement. Rounds without improvement: {rounds_without_improvement}/{patience}\")\n",
    "            if rounds_without_improvement >= patience:\n",
    "                print(f\"Early stopping after {round_num + 1} rounds\")\n",
    "                break\n",
    "\n",
    "    # Visualize train vs test accuracy\n",
    "    import matplotlib.pyplot as plt\n",
    "\n",
    "    plt.figure(figsize=(10, 6))\n",
    "    plt.plot(train_accuracies, label='Train Accuracy')\n",
    "    plt.plot(test_accuracies, label='Test Accuracy')\n",
    "    plt.xlabel('Rounds')\n",
    "    plt.ylabel('Accuracy (%)')\n",
    "    plt.title(\"Performance Evolution on Training and Test Sets\")\n",
    "    plt.legend()\n",
    "    plt.grid(True)\n",
    "    plt.show()\n",
    "\n",
    "    # Visualiser les courbes de loss\n",
    "    plt.figure(figsize=(10, 6))\n",
    "    plt.plot(train_losses, label='Train Loss')\n",
    "    plt.plot(test_losses, label='Test Loss')\n",
    "    plt.xlabel('Rounds')\n",
    "    plt.ylabel('Loss')\n",
    "    plt.title(\"Loss Evolution During Federated Learning\")\n",
    "    plt.legend()\n",
    "    plt.grid(True)\n",
    "    plt.show()\n",
    "\n",
    "    return train_accuracies, test_accuracies, train_losses, test_losses, history\n"
   ]
  },
  {
   "cell_type": "markdown",
   "id": "a91946aa",
   "metadata": {
    "id": "YKbH3FGucVMZ",
    "papermill": {
     "duration": 0.007879,
     "end_time": "2025-05-04T12:36:14.066845",
     "exception": false,
     "start_time": "2025-05-04T12:36:14.058966",
     "status": "completed"
    },
    "tags": []
   },
   "source": [
    "# Initialization and Launch of Federated Learning  \n",
    "Final step of our federated learning implementation. It includes:  \n",
    "\n",
    "- Preparing the data for each client (separating features and labels)  \n",
    "- Initializing the global model with the previously defined dimensions  \n",
    "- Creating instances of federated clients with their respective data  \n",
    "- Initializing the federated server that will orchestrate the learning process  \n",
    "- Launching the federated learning process over multiple rounds"
   ]
  },
  {
   "cell_type": "code",
   "execution_count": 23,
   "id": "c878bdab",
   "metadata": {
    "execution": {
     "iopub.execute_input": "2025-05-04T12:36:14.084029Z",
     "iopub.status.busy": "2025-05-04T12:36:14.083764Z",
     "iopub.status.idle": "2025-05-04T12:38:00.245737Z",
     "shell.execute_reply": "2025-05-04T12:38:00.244905Z"
    },
    "id": "EMlFQ1cNXd8a",
    "outputId": "ef455787-fa8e-4cee-cf6f-ca4c890c7044",
    "papermill": {
     "duration": 106.172247,
     "end_time": "2025-05-04T12:38:00.247234",
     "exception": false,
     "start_time": "2025-05-04T12:36:14.074987",
     "status": "completed"
    },
    "tags": []
   },
   "outputs": [
    {
     "name": "stdout",
     "output_type": "stream",
     "text": [
      "Modèle global initialisé avec 17 caractéristiques d'entrée, 64 neurones cachés\n",
      "Client_1 initialisé avec 883 échantillons d'entraînement et 221 échantillons de test\n",
      "Client_2 initialisé avec 2946 échantillons d'entraînement et 737 échantillons de test\n",
      "Client_3 initialisé avec 5352 échantillons d'entraînement et 1339 échantillons de test\n",
      "Client_4 initialisé avec 845 échantillons d'entraînement et 212 échantillons de test\n",
      "Client_5 initialisé avec 3160 échantillons d'entraînement et 790 échantillons de test\n",
      "Client_6 initialisé avec 3164 échantillons d'entraînement et 792 échantillons de test\n",
      "Client_7 initialisé avec 88 échantillons d'entraînement et 23 échantillons de test\n",
      "Client_8 initialisé avec 651 échantillons d'entraînement et 163 échantillons de test\n",
      "Client_9 initialisé avec 1063 échantillons d'entraînement et 266 échantillons de test\n",
      "Client_10 initialisé avec 4486 échantillons d'entraînement et 1122 échantillons de test\n",
      "Federated server initialized\n",
      "\n",
      "Starting federated learning...\n",
      "Round 1/10\n",
      "Round 2/10\n",
      "Round 3/10\n",
      "No significant improvement. Rounds without improvement: 1/3\n",
      "Round 4/10\n",
      "Round 5/10\n",
      "No significant improvement. Rounds without improvement: 1/3\n",
      "Round 6/10\n",
      "Round 7/10\n",
      "Round 8/10\n",
      "No significant improvement. Rounds without improvement: 1/3\n",
      "Round 9/10\n",
      "No significant improvement. Rounds without improvement: 2/3\n",
      "Round 10/10\n"
     ]
    },
    {
     "data": {
      "image/png": "[encoded data removed]",
      "text/plain": [
       "<Figure size 1000x600 with 1 Axes>"
      ]
     },
     "metadata": {},
     "output_type": "display_data"
    },
    {
     "data": {
      "image/png": "[encoded data removed]",
      "text/plain": [
       "<Figure size 1000x600 with 1 Axes>"
      ]
     },
     "metadata": {},
     "output_type": "display_data"
    },
    {
     "data": {
      "image/png": "[encoded data removed]",
      "text/plain": [
       "<Figure size 1000x600 with 1 Axes>"
      ]
     },
     "metadata": {},
     "output_type": "display_data"
    }
   ],
   "source": [
    "# Data Preparation for Each Client\n",
    "client_datasets = []\n",
    "\n",
    "for client_df in client_data:\n",
    "    # Selecting features and target\n",
    "    X = client_df.drop(['Mortality', 'Mortality_48h', 'Mortality_30d', 'icustay_id_x', 'charttime', 'subject_id', 'hadm_id', 'icustay_id_y'], axis=1).values\n",
    "    y = client_df['Mortality'].values\n",
    "\n",
    "    # Splitting into training and test sets (80% / 20%)  \n",
    "    train_size = int(0.8 * len(X))\n",
    "    X_train, X_test = X[:train_size], X[train_size:]\n",
    "    y_train, y_test = y[:train_size], y[train_size:]\n",
    "\n",
    "    client_datasets.append(((X_train, y_train), (X_test, y_test)))\n",
    "\n",
    "# Initializing the global model\n",
    "# Retrieving the actual number of features from the data\n",
    "if len(client_datasets) > 0 and len(client_datasets[0]) > 0:\n",
    "    input_dim = client_datasets[0][0][0].shape[1]  # Nombre de caractéristiques\n",
    "    hidden_dim = 64  # Plus grand modèle pour des données complexes\n",
    "    output_dim = 1   # Classification binaire (survie/décès)\n",
    "\n",
    "# Creating the global model\n",
    "global_model = NeuralNetwork(input_dim, hidden_dim, output_dim, dropout_prob=0.3)\n",
    "print(f\"Modèle global initialisé avec {input_dim} caractéristiques d'entrée, {hidden_dim} neurones cachés\")\n",
    "\n",
    "# Initializing federated clients\n",
    "federated_clients = []\n",
    "for i, dataset in enumerate(client_datasets):\n",
    "    client = FederatedClient(\n",
    "        client_id=f\"Client_{i+1}\",\n",
    "        train_data=dataset[0],\n",
    "        test_data=dataset[1],\n",
    "        input_dim=input_dim,\n",
    "        hidden_dim=hidden_dim,\n",
    "        output_dim=output_dim,\n",
    "        dropout_prob=0.3,\n",
    "        lr=0.001\n",
    "    )\n",
    "    federated_clients.append(client)\n",
    "    print(f\"Client_{i+1} initialisé avec {len(dataset[0][0])} échantillons d'entraînement et {len(dataset[1][0])} échantillons de test\")\n",
    "\n",
    "# Initializing the federated server\n",
    "federated_server = FederatedServer(global_model, federated_clients)\n",
    "print(\"Federated server initialized\")\n",
    "\n",
    "# Launching federated learning (5 rounds)\n",
    "print(\"\\nStarting federated learning...\")\n",
    "# Using early stopping\n",
    "train_accuracies, test_accuracies, train_losses, test_losses, history = run_federated_learning_with_metrics_and_early_stopping(federated_server, max_rounds=10, patience=3)\n",
    "\n",
    "# Visualizing accuracy evolution\n",
    "plt.figure(figsize=(10, 6))\n",
    "plt.plot(history)\n",
    "plt.title('Global Accuracy Evolution During Federated Learning')\n",
    "plt.xlabel('Rounds')\n",
    "plt.ylabel('Accuracy (%)')\n",
    "plt.grid(True)\n",
    "plt.show()\n",
    "\n"
   ]
  },
  {
   "cell_type": "markdown",
   "id": "269299d6",
   "metadata": {
    "id": "P4a0NkjDdLuS",
    "papermill": {
     "duration": 0.010822,
     "end_time": "2025-05-04T12:38:00.269663",
     "exception": false,
     "start_time": "2025-05-04T12:38:00.258841",
     "status": "completed"
    },
    "tags": []
   },
   "source": [
    "# Accuracy Evaluation in Federated Learning  \n",
    "Evaluation of the accuracy of the federated model. In federated learning, accuracy evaluation is unique because it must aggregate performance across multiple clients without sharing raw data. We will:  \n",
    "\n",
    "- Create a global evaluation function that aggregates client metrics  \n",
    "- Evaluate the federated model on test data from all clients  \n",
    "- Compare the performance of the federated model with a centralized model (as a reference)  \n",
    "- Visualize accuracy results per client and globally"
   ]
  },
  {
   "cell_type": "code",
   "execution_count": 24,
   "id": "64798908",
   "metadata": {
    "execution": {
     "iopub.execute_input": "2025-05-04T12:38:00.293043Z",
     "iopub.status.busy": "2025-05-04T12:38:00.292664Z",
     "iopub.status.idle": "2025-05-04T12:38:05.959017Z",
     "shell.execute_reply": "2025-05-04T12:38:05.958181Z"
    },
    "id": "GWZrEqIBc-FL",
    "outputId": "5dbdeb35-7690-4119-8d25-448b1af0090f",
    "papermill": {
     "duration": 5.679831,
     "end_time": "2025-05-04T12:38:05.960517",
     "exception": false,
     "start_time": "2025-05-04T12:38:00.280686",
     "status": "completed"
    },
    "tags": []
   },
   "outputs": [
    {
     "name": "stdout",
     "output_type": "stream",
     "text": [
      "=== Federated Model Evaluation ===\n",
      "Client_1: Accuracy = 0.8869 (on 221 samples)\n",
      "Client_2: Accuracy = 0.9254 (on 737 samples)\n",
      "Client_3: Accuracy = 0.9268 (on 1339 samples)\n",
      "Client_4: Accuracy = 0.9057 (on 212 samples)\n",
      "Client_5: Accuracy = 0.9215 (on 790 samples)\n",
      "Client_6: Accuracy = 0.9053 (on 792 samples)\n",
      "Client_7: Accuracy = 0.8261 (on 23 samples)\n",
      "Client_8: Accuracy = 0.8957 (on 163 samples)\n",
      "Client_9: Accuracy = 0.9173 (on 266 samples)\n",
      "Client_10: Accuracy = 0.9091 (on 1122 samples)\n",
      "\n",
      "=== Global Results ===\n",
      "Weighted Average Accuracy: 0.9153\n",
      "Global Accuracy: 0.9154\n",
      "Precision: 0.8794\n",
      "Recall: 0.6824\n",
      "F1 Score: 0.7685\n",
      "\n",
      "=== Training a Centralized Model (Reference) ===\n",
      "Epoch 2/10, Loss: 3.0705\n",
      "Epoch 4/10, Loss: 0.6960\n",
      "Epoch 6/10, Loss: 0.3490\n",
      "Epoch 8/10, Loss: 0.2802\n",
      "Epoch 10/10, Loss: 0.2627\n",
      "\n",
      "=== Centralized Model Results ===\n",
      "Accuracy: 0.8936\n",
      "Precision: 0.7631\n",
      "Recall: 0.6996\n",
      "F1 Score: 0.7300\n"
     ]
    },
    {
     "data": {
      "image/png": "[encoded data removed]",
      "text/plain": [
       "<Figure size 1500x1000 with 2 Axes>"
      ]
     },
     "metadata": {},
     "output_type": "display_data"
    }
   ],
   "source": [
    "from sklearn.metrics import accuracy_score, precision_score, recall_score, f1_score, roc_auc_score\n",
    "\n",
    "def get_raw_data(self):\n",
    "    \"\"\"\n",
    "    Retrieve raw data from the DataLoader for external evaluations.\n",
    "\n",
    "    Returns:\n",
    "        tuple: (X_test, y_test) containing test features and labels\n",
    "    \"\"\"\n",
    "    X_test_list = []\n",
    "    y_test_list = []\n",
    "\n",
    "    # Iterate through the DataLoader to extract all data\n",
    "    for features, labels in self.test_loader:\n",
    "        X_test_list.append(features.numpy())\n",
    "        y_test_list.append(labels.numpy())\n",
    "\n",
    "     # Concatenate all batches\n",
    "    X_test = np.vstack(X_test_list)\n",
    "    y_test = np.vstack(y_test_list).reshape(-1)\n",
    "\n",
    "    return X_test, y_test\n",
    "\n",
    "# Dynamically add the method to the class\n",
    "FederatedClient.get_raw_data = get_raw_data\n",
    "\n",
    "# Function to evaluate the federated model globally\n",
    "def evaluate_federated_model():\n",
    "    print(\"=== Federated Model Evaluation ===\")\n",
    "\n",
    "    # Results per client \n",
    "    client_accuracies = []\n",
    "    client_sizes = []\n",
    "\n",
    "    # Other global metrics\n",
    "    all_y_true = []\n",
    "    all_y_pred = []\n",
    "\n",
    "    # Evaluation per client\n",
    "    for client in federated_clients:\n",
    "        local_accuracy = client.evaluate() / 100  # Convertir pourcentage en fraction\n",
    "        X_test, y_test = client.get_raw_data()\n",
    "        client_sizes.append(len(X_test))\n",
    "\n",
    "        # Apply the global model to the data to get predictions\n",
    "        client.model.load_state_dict(global_model.state_dict())\n",
    "        client.model.eval()\n",
    "\n",
    "        with torch.no_grad():\n",
    "            outputs = client.model(torch.tensor(X_test, dtype=torch.float32))\n",
    "            y_pred = (torch.sigmoid(outputs) > 0.5).float().numpy().reshape(-1)\n",
    "\n",
    "       # Store local accuracy\n",
    "        client_accuracies.append(local_accuracy)\n",
    "\n",
    "        # Collect for global metrics\n",
    "        all_y_true.extend(y_test)\n",
    "        all_y_pred.extend(y_pred)\n",
    "\n",
    "        print(f\"{client.client_id}: Accuracy = {local_accuracy:.4f} (on {len(X_test)} samples)\")\n",
    "\n",
    "    # Compute weighted average (by sample size)\n",
    "    weighted_avg_accuracy = sum(acc * size for acc, size in zip(client_accuracies, client_sizes)) / sum(client_sizes)\n",
    "\n",
    "    # Global metrics\n",
    "    global_accuracy = accuracy_score(all_y_true, all_y_pred)\n",
    "    global_precision = precision_score(all_y_true, all_y_pred, zero_division=0)\n",
    "    global_recall = recall_score(all_y_true, all_y_pred, zero_division=0)\n",
    "    global_f1 = f1_score(all_y_true, all_y_pred, zero_division=0)\n",
    "\n",
    "    print(\"\\n=== Global Results ===\")\n",
    "    print(f\"Weighted Average Accuracy: {weighted_avg_accuracy:.4f}\")\n",
    "    print(f\"Global Accuracy: {global_accuracy:.4f}\")\n",
    "    print(f\"Precision: {global_precision:.4f}\")\n",
    "    print(f\"Recall: {global_recall:.4f}\")\n",
    "    print(f\"F1 Score: {global_f1:.4f}\")\n",
    "\n",
    "\n",
    "    # Return metrics for comparison or visualization\n",
    "    return {\n",
    "        'client_accuracies': client_accuracies,\n",
    "        'weighted_avg_accuracy': weighted_avg_accuracy,\n",
    "        'global_accuracy': global_accuracy,\n",
    "        'global_precision': global_precision,\n",
    "        'global_recall': global_recall,\n",
    "        'global_f1': global_f1\n",
    "    }\n",
    "\n",
    "# Train a centralized model for comparison\n",
    "def train_centralized_model():\n",
    "    print(\"\\n=== Training a Centralized Model (Reference) ===\")\n",
    "\n",
    "     # Combine data from all clients\n",
    "    X_train_all = []\n",
    "    y_train_all = []\n",
    "    X_test_all = []\n",
    "    y_test_all = []\n",
    "\n",
    "    for client in federated_clients:\n",
    "        # Extract raw data from each client\n",
    "        for batch_x, batch_y in client.train_loader:\n",
    "            X_train_all.append(batch_x.numpy())\n",
    "            y_train_all.append(batch_y.numpy())\n",
    "\n",
    "        X_test, y_test = client.get_raw_data()\n",
    "        X_test_all.append(X_test)\n",
    "        y_test_all.append(y_test)\n",
    "\n",
    "    X_train_all = np.vstack(X_train_all)\n",
    "    y_train_all = np.vstack(y_train_all).reshape(-1, 1)\n",
    "    X_test_all = np.vstack(X_test_all)\n",
    "    y_test_all = np.concatenate(y_test_all)\n",
    "\n",
    "    # Create and train a centralized model\n",
    "    centralized_model = NeuralNetwork(input_dim, hidden_dim, output_dim, dropout_prob=0.3)\n",
    "    criterion = nn.BCEWithLogitsLoss()\n",
    "    optimizer = torch.optim.Adam(centralized_model.parameters(), lr=0.001)\n",
    "\n",
    "    # Convert data to tensors\n",
    "    X_train_tensor = torch.FloatTensor(X_train_all)\n",
    "    y_train_tensor = torch.FloatTensor(y_train_all)\n",
    "\n",
    "    # Create a DataLoader\n",
    "    train_dataset = TensorDataset(X_train_tensor, y_train_tensor)\n",
    "    train_loader = DataLoader(train_dataset, batch_size=128, shuffle=True)\n",
    "\n",
    "    # Training\n",
    "    epochs = 10\n",
    "\n",
    "    for epoch in range(epochs):\n",
    "        centralized_model.train()\n",
    "        epoch_loss = 0\n",
    "        num_batches = 0\n",
    "\n",
    "        for batch_x, batch_y in train_loader:\n",
    "            optimizer.zero_grad()\n",
    "            outputs = centralized_model(batch_x)\n",
    "            loss = criterion(outputs, batch_y)\n",
    "            loss.backward()\n",
    "            optimizer.step()\n",
    "\n",
    "            epoch_loss += loss.item()\n",
    "            num_batches += 1\n",
    "\n",
    "        if (epoch + 1) % 2 == 0:\n",
    "            print(f\"Epoch {epoch+1}/{epochs}, Loss: {epoch_loss/num_batches:.4f}\")\n",
    "\n",
    "    # Evaluate the centralized model\n",
    "    X_test_tensor = torch.FloatTensor(X_test_all)\n",
    "    y_test_tensor = torch.FloatTensor(y_test_all).reshape(-1, 1)\n",
    "\n",
    "    centralized_model.eval()\n",
    "    with torch.no_grad():\n",
    "        y_pred_proba = centralized_model(X_test_tensor)\n",
    "        y_pred = (torch.sigmoid(y_pred_proba) > 0.5).float().numpy().reshape(-1)\n",
    "\n",
    "    centralized_accuracy = accuracy_score(y_test_all, y_pred)\n",
    "    centralized_precision = precision_score(y_test_all, y_pred, zero_division=0)\n",
    "    centralized_recall = recall_score(y_test_all, y_pred, zero_division=0)\n",
    "    centralized_f1 = f1_score(y_test_all, y_pred, zero_division=0)\n",
    "\n",
    "    print(\"\\n=== Centralized Model Results ===\")\n",
    "    print(f\"Accuracy: {centralized_accuracy:.4f}\")\n",
    "    print(f\"Precision: {centralized_precision:.4f}\")\n",
    "    print(f\"Recall: {centralized_recall:.4f}\")\n",
    "    print(f\"F1 Score: {centralized_f1:.4f}\")\n",
    "\n",
    "    return {\n",
    "        'accuracy': centralized_accuracy,\n",
    "        'precision': centralized_precision,\n",
    "        'recall': centralized_recall,\n",
    "        'f1': centralized_f1\n",
    "    }\n",
    "\n",
    "# Comparative visualization of results\n",
    "def visualize_results(federated_metrics, centralized_metrics):\n",
    "    plt.figure(figsize=(15, 10))\n",
    "\n",
    "    # Graphique 1: Accuracy per client\n",
    "    plt.subplot(2, 2, 1)\n",
    "    client_ids = [f\"Client {i+1}\" for i in range(len(federated_metrics['client_accuracies']))]\n",
    "    plt.bar(client_ids, federated_metrics['client_accuracies'], color='skyblue')\n",
    "    plt.axhline(y=federated_metrics['weighted_avg_accuracy'], color='r', linestyle='-', label=f\"Weighted Average Accuracy: {federated_metrics['weighted_avg_accuracy']:.4f}\")\n",
    "    plt.title('Accuracy per client')\n",
    "    plt.ylabel('Accuracy')\n",
    "    plt.ylim(0, 1)\n",
    "    plt.legend()\n",
    "\n",
    "    # Graphique 2: Federated vs. Centralized Comparison\n",
    "    plt.subplot(2, 2, 2)\n",
    "    comparison_metrics = ['Accuracy', 'Precision', 'Recall', 'F1']\n",
    "    federated_values = [federated_metrics['global_accuracy'], federated_metrics['global_precision'],\n",
    "                         federated_metrics['global_recall'], federated_metrics['global_f1']]\n",
    "    centralized_values = [centralized_metrics['accuracy'], centralized_metrics['precision'],\n",
    "                          centralized_metrics['recall'], centralized_metrics['f1']]\n",
    "\n",
    "    x = np.arange(len(comparison_metrics))\n",
    "    width = 0.35\n",
    "\n",
    "    plt.bar(x - width/2, federated_values, width, label='Federated Model', color='skyblue')\n",
    "    plt.bar(x + width/2, centralized_values, width, label='Centralized Model', color='salmon')\n",
    "    plt.title('Federated vs. Centralized Comparison')\n",
    "    plt.xticks(x, comparison_metrics)\n",
    "    plt.ylabel('Score')\n",
    "    plt.ylim(0, 1)\n",
    "    plt.legend()\n",
    "\n",
    "    plt.tight_layout()\n",
    "    plt.savefig('federated_vs_centralized_performance.png')\n",
    "    plt.show()\n",
    "\n",
    "# Exécuter l'évaluation\n",
    "federated_metrics = evaluate_federated_model()\n",
    "centralized_metrics = train_centralized_model()\n",
    "visualize_results(federated_metrics, centralized_metrics)\n"
   ]
  }
 ],
 "metadata": {
  "colab": {
   "provenance": []
  },
  "kaggle": {
   "accelerator": "gpu",
   "dataSources": [
    {
     "datasetId": 2061039,
     "sourceId": 3419588,
     "sourceType": "datasetVersion"
    }
   ],
   "dockerImageVersionId": 30919,
   "isGpuEnabled": true,
   "isInternetEnabled": true,
   "language": "python",
   "sourceType": "notebook"
  },
  "kernelspec": {
   "display_name": "Python 3",
   "language": "python",
   "name": "python3"
  },
  "language_info": {
   "codemirror_mode": {
    "name": "ipython",
    "version": 3
   },
   "file_extension": ".py",
   "mimetype": "text/x-python",
   "name": "python",
   "nbconvert_exporter": "python",
   "pygments_lexer": "ipython3",
   "version": "3.10.12"
  },
  "papermill": {
   "default_parameters": {},
   "duration": 126.292643,
   "end_time": "2025-05-04T12:38:07.494472",
   "environment_variables": {},
   "exception": null,
   "input_path": "__notebook__.ipynb",
   "output_path": "__notebook__.ipynb",
   "parameters": {},
   "start_time": "2025-05-04T12:36:01.201829",
   "version": "2.6.0"
  }
 },
 "nbformat": 4,
 "nbformat_minor": 5
}
